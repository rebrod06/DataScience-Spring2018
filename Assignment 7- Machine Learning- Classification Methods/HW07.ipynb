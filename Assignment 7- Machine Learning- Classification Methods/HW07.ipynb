{
 "cells": [
  {
   "cell_type": "markdown",
   "metadata": {},
   "source": [
    "# Introduction to Data Science - Homework 7\n",
    "*COMP 5360 / MATH 4100, University of Utah, http://datasciencecourse.net/*\n",
    "\n",
    "Due: Friday, March 9, 11:59pm.\n",
    "\n",
    "In this homework, you will use classification methods to classify handwritten digits (Part 1) and predict the popularity of online news (Part 2). We hope these exercises will give you an idea of the broad usage of classificaiton methods. "
   ]
  },
  {
   "cell_type": "markdown",
   "metadata": {},
   "source": [
    "## Your Data\n",
    "**First Name:** Rebecca Rodriguez\n",
    "<br>\n",
    "**Last Name:** Rodriguez\n",
    "<br>"
   ]
  },
  {
   "cell_type": "code",
   "execution_count": 1,
   "metadata": {},
   "outputs": [],
   "source": [
    "# imports and setup \n",
    "\n",
    "import pandas as pd\n",
    "import numpy as np\n",
    "\n",
    "from sklearn import tree, svm, metrics\n",
    "from sklearn.neighbors import KNeighborsClassifier\n",
    "from sklearn.model_selection import train_test_split, cross_val_predict, cross_val_score, KFold\n",
    "from sklearn.datasets import load_digits\n",
    "from sklearn.preprocessing import scale\n",
    "\n",
    "import matplotlib.pyplot as plt\n",
    "%matplotlib inline\n",
    "plt.rcParams['figure.figsize'] = (10, 6)\n",
    "plt.style.use('ggplot')\n",
    "\n",
    "%config IPCompleter.greedy=True"
   ]
  },
  {
   "cell_type": "markdown",
   "metadata": {},
   "source": [
    "## Part1: MNIST handwritten digits\n",
    "\n",
    "THE MNIST handwritten digit dataset consists of images of handwritten digits, together with labels indicating which digit is in each image. You will see that images are just matrices with scalar values, and that we can use all the classifcation algorithms we studied on them.\n",
    "\n",
    "Becaue both the features and the labels are present in this dataset (and labels for large datasets are generally difficult/expensive to obtain), this dataset is frequently used as a benchmark to compare various classification methods. \n",
    "For example, [this webpage](http://yann.lecun.com/exdb/mnist/) gives a comparison of a variety of different classification methods on MNIST (Note that the tests on this website are for higher resolution images than we'll use.) \n",
    "\n",
    "In this problem, we'll use scikit-learn to compare classification methods on the MNIST dataset. \n",
    "\n",
    "There are several versions of the MNIST dataset. We'll use the one that is built-into scikit-learn, described [here](http://scikit-learn.org/stable/modules/generated/sklearn.datasets.load_digits.html). \n",
    "\n",
    "* Classes: 10 (one for each digit)\n",
    "* Samples total: 1797\n",
    "* Samples per class: $\\approx$180\n",
    "* Dimensionality: 64 (8 pixels by 8 pixels)\n",
    "* Features: integers 0-16 (grayscale value; 0 is white, 16 is black)\n",
    "\n",
    "Here are some examples of the images. Note that the digits have been size-normalized and centered in a fixed-size ($8\\times8$ pixels) image.\n",
    "\n",
    "<img src=\"http://scikit-learn.org/stable/_images/sphx_glr_plot_digits_classification_001.png\" width=\"500\">"
   ]
  },
  {
   "cell_type": "markdown",
   "metadata": {},
   "source": [
    "Note that we will scale the data before running them through our algorithms, which will also alter their appearance when we plot them. You can read details about scaling and why it's important [here](http://scikit-learn.org/stable/modules/preprocessing.html#standardization-or-mean-removal-and-variance-scaling)."
   ]
  },
  {
   "cell_type": "code",
   "execution_count": 2,
   "metadata": {},
   "outputs": [
    {
     "name": "stdout",
     "output_type": "stream",
     "text": [
      "<class 'numpy.ndarray'>\n",
      "n_digits: 10, n_samples 1797, n_features 64\n"
     ]
    }
   ],
   "source": [
    "digits = load_digits()\n",
    "X = scale(digits.data)\n",
    "y = digits.target\n",
    "print(type(X))\n",
    "\n",
    "n_samples, n_features = X.shape\n",
    "n_digits = len(np.unique(digits.target))\n",
    "print(\"n_digits: %d, n_samples %d, n_features %d\" % (n_digits, n_samples, n_features))"
   ]
  },
  {
   "cell_type": "code",
   "execution_count": 3,
   "metadata": {},
   "outputs": [
    {
     "name": "stdout",
     "output_type": "stream",
     "text": [
      "===\n",
      "The raw data\n",
      "[[ 0.  0.  5. 13.  9.  1.  0.  0.]\n",
      " [ 0.  0. 13. 15. 10. 15.  5.  0.]\n",
      " [ 0.  3. 15.  2.  0. 11.  8.  0.]\n",
      " [ 0.  4. 12.  0.  0.  8.  8.  0.]\n",
      " [ 0.  5.  8.  0.  0.  9.  8.  0.]\n",
      " [ 0.  4. 11.  0.  1. 12.  7.  0.]\n",
      " [ 0.  2. 14.  5. 10. 12.  0.  0.]\n",
      " [ 0.  0.  6. 13. 10.  0.  0.  0.]]\n",
      "===\n",
      "The scaled data\n",
      "[ 0.         -0.33501649 -0.04308102  0.27407152 -0.66447751 -0.84412939\n",
      " -0.40972392 -0.12502292 -0.05907756 -0.62400926  0.4829745   0.75962245\n",
      " -0.05842586  1.12772113  0.87958306 -0.13043338 -0.04462507  0.11144272\n",
      "  0.89588044 -0.86066632 -1.14964846  0.51547187  1.90596347 -0.11422184\n",
      " -0.03337973  0.48648928  0.46988512 -1.49990136 -1.61406277  0.07639777\n",
      "  1.54181413 -0.04723238  0.          0.76465553  0.05263019 -1.44763006\n",
      " -1.73666443  0.04361588  1.43955804  0.         -0.06134367  0.8105536\n",
      "  0.63011714 -1.12245711 -1.06623158  0.66096475  0.81845076 -0.08874162\n",
      " -0.03543326  0.74211893  1.15065212 -0.86867056  0.11012973  0.53761116\n",
      " -0.75743581 -0.20978513 -0.02359646 -0.29908135  0.08671869  0.20829258\n",
      " -0.36677122 -1.14664746 -0.5056698  -0.19600752]\n",
      "===\n",
      "The digit\n",
      "0\n"
     ]
    }
   ],
   "source": [
    "# this is what one digit (a zero) looks like\n",
    "print(\"===\\nThe raw data\")\n",
    "print(digits.images[0])\n",
    "print(\"===\\nThe scaled data\")\n",
    "print(X[0])\n",
    "print(\"===\\nThe digit\")\n",
    "print(digits.target[0])\n"
   ]
  },
  {
   "cell_type": "code",
   "execution_count": 4,
   "metadata": {},
   "outputs": [
    {
     "data": {
      "image/png": "[encoded data removed]",
      "text/plain": [
       "<matplotlib.figure.Figure at 0x5774400>"
      ]
     },
     "metadata": {},
     "output_type": "display_data"
    }
   ],
   "source": [
    "plt.figure(figsize= (10, 10))    \n",
    "for ii in np.arange(25):\n",
    "    plt.subplot(5, 5, ii+1)\n",
    "    plt.imshow(np.reshape(X[ii,:],(8,8)), cmap='Greys',interpolation='nearest')\n",
    "    plt.axis('off')\n",
    "plt.show()"
   ]
  },
  {
   "cell_type": "markdown",
   "metadata": {},
   "source": [
    "You might find [this webpage](http://scikit-learn.org/stable/tutorial/basic/tutorial.html) helpful. "
   ]
  },
  {
   "cell_type": "markdown",
   "metadata": {},
   "source": [
    "### Task 1.1: Classification with Support Vector Machines (SVM)\n",
    "\n",
    "1. Split the data into a training and test set using the command \n",
    "```\n",
    "train_test_split(X, y, random_state=1, test_size=0.8)\n",
    "```\n",
    "+ Use SVM with an `rbf` kernel and parameter `C=100` to build a classifier using the *training dataset*.\n",
    "+ Using the *test dataset*, evaluate the accuracy of the model. Again using the *test dataset*, compute the confusion matrix. What is the most common mistake that the classifier makes? \n",
    "+ Print all of these misclassified digits as images. \n",
    "+ Using the 'cross_val_score' function, evaluate the accuracy of the SVM for 100 different values of the parameter C between 1 and 500. What is the best value? \n",
    "+ Try to train and test the algorithm on the raw (non-scaled) data. What's your accuracy score?"
   ]
  },
  {
   "cell_type": "code",
   "execution_count": 5,
   "metadata": {},
   "outputs": [],
   "source": [
    "# Task 1\n",
    "\n",
    "#split data into training and test sets\n",
    "XTrain, XTest, yTrain, yTest = train_test_split(X, y, random_state=1, test_size=.8)"
   ]
  },
  {
   "cell_type": "code",
   "execution_count": 6,
   "metadata": {},
   "outputs": [
    {
     "name": "stdout",
     "output_type": "stream",
     "text": [
      "SVM model with rbf kernel and C=100:\n",
      " Accuracy =  0.952712100139082\n",
      " Confusion Matrix:\n",
      "[[130   0   0   0   0   0   0   0   0   0]\n",
      " [  0 140   4   0   0   0   0   1   4   0]\n",
      " [  0   1 134   0   0   0   0   2   5   0]\n",
      " [  0   0   3 136   0   0   0   3   4   1]\n",
      " [  0   0   0   0 140   0   0  12   0   0]\n",
      " [  0   0   0   0   0 141   1   0   1   4]\n",
      " [  0   1   0   0   0   0 144   0   1   0]\n",
      " [  0   0   0   0   0   0   0 139   0   1]\n",
      " [  0   4   0   1   0   1   0   1 126   0]\n",
      " [  0   2   0   2   0   3   1   2   2 140]]\n",
      "\n",
      "Images of misclassified digits:\n"
     ]
    },
    {
     "data": {
      "image/png": "[encoded data removed]",
      "text/plain": [
       "<matplotlib.figure.Figure at 0xbe0d320>"
      ]
     },
     "metadata": {},
     "output_type": "display_data"
    }
   ],
   "source": [
    "# Task 1.1: SVM\n",
    "\n",
    "#set up the model: SVM with rbf kernel and C=100\n",
    "model = svm.SVC(kernel='rbf', C=100)\n",
    "model.fit(XTrain, yTrain) \n",
    "\n",
    "#use test data to compute score and create confusion matrix\n",
    "print(\"SVM model with rbf kernel and C=100:\")\n",
    "yPred = model.predict(XTest)\n",
    "print(' Accuracy = ', metrics.accuracy_score(y_true = yTest, y_pred = yPred))\n",
    "print(' Confusion Matrix:')\n",
    "print(metrics.confusion_matrix(y_true = yTest, y_pred = yPred))\n",
    "\n",
    "#grab indexes of misclassified digits\n",
    "mismatch_indexes = []\n",
    "for i in range(len(yTest)):\n",
    "    if yTest[i] != yPred[i]:\n",
    "        mismatch_indexes.append(i)\n",
    "\n",
    "#print images of misclassified digits\n",
    "print(\"\\nImages of misclassified digits:\")\n",
    "plt.figure(figsize= (10, 10))    \n",
    "for ii in np.arange(len(mismatch_indexes)):\n",
    "    plt.subplot(9, 8, ii+1)\n",
    "    plt.imshow(np.reshape(XTest[mismatch_indexes[ii],:],(8,8)), cmap='Greys',interpolation='nearest')\n",
    "    plt.axis('off')\n",
    "plt.show()\n"
   ]
  },
  {
   "cell_type": "code",
   "execution_count": 7,
   "metadata": {},
   "outputs": [
    {
     "data": {
      "image/png": "[encoded data removed]",
      "text/plain": [
       "<matplotlib.figure.Figure at 0xbdf7438>"
      ]
     },
     "metadata": {},
     "output_type": "display_data"
    }
   ],
   "source": [
    "#Task 1.1 Cont: SVM cross-validation\n",
    "\n",
    "#test 100 c values between 1 and 500\n",
    "c_cvs = list(range(1,600, 5))\n",
    "accuracy_svm = [] #hold accuracies for tested c values\n",
    "\n",
    "for c in c_cvs: \n",
    "    model = svm.SVC(kernel='rbf', C=c)\n",
    "    scores = cross_val_score(estimator = model, X=X, y=y, cv=5, scoring='accuracy')    \n",
    "    accuracy = scores.mean()\n",
    "    accuracy_svm.append(accuracy)\n",
    "\n",
    "#visualize c values and accuracies\n",
    "plt.plot(c_cvs, accuracy_svm)\n",
    "plt.show()"
   ]
  },
  {
   "cell_type": "code",
   "execution_count": 8,
   "metadata": {},
   "outputs": [
    {
     "data": {
      "image/png": "[encoded data removed]",
      "text/plain": [
       "<matplotlib.figure.Figure at 0x55699e8>"
      ]
     },
     "metadata": {},
     "output_type": "display_data"
    }
   ],
   "source": [
    "#zoom in on c values and accuracies\n",
    "plt.plot(c_cvs[:5], accuracy_svm[:5])\n",
    "plt.show()\n"
   ]
  },
  {
   "cell_type": "code",
   "execution_count": 9,
   "metadata": {},
   "outputs": [
    {
     "data": {
      "image/png": "[encoded data removed]",
      "text/plain": [
       "<matplotlib.figure.Figure at 0xb3f8668>"
      ]
     },
     "metadata": {},
     "output_type": "display_data"
    },
    {
     "name": "stdout",
     "output_type": "stream",
     "text": [
      "Best Accuracy:  0.9554266765714182\n"
     ]
    }
   ],
   "source": [
    "#test values between 1 and 6\n",
    "acc2 = []\n",
    "for c in range(1,7): \n",
    "    model = svm.SVC(kernel='rbf', C=c)\n",
    "    scores = cross_val_score(estimator = model, X=X, y=y, cv=5, scoring='accuracy')    \n",
    "    accuracy = scores.mean()\n",
    "    acc2.append(accuracy)\n",
    "\n",
    "plt.plot(range(1,7), acc2)\n",
    "plt.show()\n",
    "print(\"Best Accuracy: \", max(acc2))"
   ]
  },
  {
   "cell_type": "code",
   "execution_count": 10,
   "metadata": {},
   "outputs": [
    {
     "name": "stdout",
     "output_type": "stream",
     "text": [
      "SVM model with C = 3 and raw data \n",
      " Accuracy:  0.12\n"
     ]
    }
   ],
   "source": [
    "#train and test k-nn model w/c=6 on raw (non-scaled) data\n",
    "X_raw = digits.data\n",
    "\n",
    "#split raw data into training and test sets\n",
    "XTrain_raw, XTest_raw, yTrain_raw, yTest_raw = train_test_split(X_raw, y, random_state=1, test_size=.8)\n",
    "\n",
    "# set up the model: k-NN classification with C=3\n",
    "svm_model_best = svm.SVC(kernel='rbf', C=3)\n",
    "\n",
    "#fit training dataset to model\n",
    "svm_model_best.fit(XTrain_raw, yTrain_raw)\n",
    "\n",
    "#use test dataset to compute score (accuracy)\n",
    "yPredict_raw = svm_model_best.predict(XTest_raw)\n",
    "svm_score_raw = round(metrics.accuracy_score(yTest_raw, yPredict_raw), 2)\n",
    "print(\"SVM model with C = 3 and raw data \\n Accuracy: \", svm_score_raw)"
   ]
  },
  {
   "cell_type": "markdown",
   "metadata": {},
   "source": [
    "**Your Interpretation Task 1.1**: \n",
    "\n",
    "The accuracy of our classification model using SVM with C=10o (and splitting the data 20/80 as training/testing sets) is 95%. That is, our classifier accurately identified 95% of the test data as the correct digit. From our confusion matrix we can see that the most common mistake the SVM classifier made was classifying 4's as 7's.\n",
    "\n",
    "After testing 100 c values from 1 to 500 (incrementing by 5), the most accurate classifier had a C value of 6 and an accuracy of 95%. Interestingly, the accuracy leveled-off after c=6. However, becuase our step-size was 5, it is possible that we achieved a higher accuracy between 1 and 6. Therefore, cross-validation was performed for c values 1-5, which yielded the best accuracy of 95.5% at a c value of 3.\n",
    "\n",
    "Once the best c value was determined, the SVM classifier was trained and tested with c=3 on the raw (un-scaled) data. This yielded an abysmal accuracy of 12%. We can conclude that scaling the data improves our accuracy by 83% when using the SVM classifier.\n",
    "\n"
   ]
  },
  {
   "cell_type": "markdown",
   "metadata": {},
   "source": [
    "### Task 1.2: Prediction with k-nearest neighbors\n",
    "Repeat task 1.1 using k-nearest neighbors (k-NN). In part 1, use k=10. In part 3, find the best value of k. "
   ]
  },
  {
   "cell_type": "code",
   "execution_count": 11,
   "metadata": {},
   "outputs": [
    {
     "name": "stdout",
     "output_type": "stream",
     "text": [
      "k-NN model with k = 10 \n",
      " Accuracy:  0.91\n",
      " Confusion matrix:\n",
      "[[130   0   0   0   0   0   0   0   0   0]\n",
      " [  0 137  11   0   0   0   0   0   1   0]\n",
      " [  2   4 123   2   0   0   0   2   9   0]\n",
      " [  1   0   1 133   0   1   0   6   4   1]\n",
      " [  0   0   0   0 147   0   0   4   1   0]\n",
      " [  1   1   0   2   1 136   1   0   0   5]\n",
      " [  0   2   0   0   0   0 143   0   1   0]\n",
      " [  0   0   0   0   0   0   0 139   1   0]\n",
      " [  0   9   1   6   0   0   0   1 115   1]\n",
      " [  5  10   0   5   1   3   2   9   8 109]]\n",
      " Images of misclassified digits:\n"
     ]
    },
    {
     "data": {
      "image/png": "[encoded data removed]",
      "text/plain": [
       "<matplotlib.figure.Figure at 0xbe330b8>"
      ]
     },
     "metadata": {},
     "output_type": "display_data"
    }
   ],
   "source": [
    "# Task 1.2: K-NN\n",
    "\n",
    "# set up the model: k-NN classification with k=10\n",
    "k = 10\n",
    "knn_model = KNeighborsClassifier(n_neighbors=k)\n",
    "\n",
    "#fit training dataset to model\n",
    "knn_model.fit(XTrain, yTrain)\n",
    "\n",
    "#use test dataset to compute score (accuracy)\n",
    "yPredict = knn_model.predict(XTest)\n",
    "knn_score = round(metrics.accuracy_score(yTest, yPredict), 2)\n",
    "print(\"k-NN model with k = 10 \\n Accuracy: \", knn_score)\n",
    "\n",
    "#use test dataset to create confusion matrix\n",
    "print(\" Confusion matrix:\")\n",
    "print(metrics.confusion_matrix(y_true = yTest, y_pred = yPredict))\n",
    " \n",
    "#grab indexes of misclassified digits\n",
    "mismatch_indexes = []\n",
    "for i in range(len(yTest)):\n",
    "    if yTest[i] != yPredict[i]:\n",
    "        mismatch_indexes.append(i)\n",
    "\n",
    "#print images of misclassified digits\n",
    "print(\" Images of misclassified digits:\")\n",
    "plt.figure(figsize= (10, 10))    \n",
    "for ii in np.arange(len(mismatch_indexes)):\n",
    "    plt.subplot(14, 9, ii+1)\n",
    "    plt.imshow(np.reshape(XTest[mismatch_indexes[ii],:],(8,8)), cmap='Greys',interpolation='nearest')\n",
    "    plt.axis('off')\n",
    "plt.show()\n"
   ]
  },
  {
   "cell_type": "code",
   "execution_count": 12,
   "metadata": {},
   "outputs": [
    {
     "name": "stdout",
     "output_type": "stream",
     "text": [
      "Best k:  6 \n",
      "Accuracy score:  0.9449625045302066\n"
     ]
    }
   ],
   "source": [
    "#use 'cross_val_score' function to evaluate accuracy of model w/k=1-100\n",
    "knn_cvs = []\n",
    "accuracy_cvs = 0\n",
    "best_k = 0\n",
    "\n",
    "for k in range(1,101):\n",
    "    knn_mod = KNeighborsClassifier(n_neighbors=k)\n",
    "    scores = (cross_val_score(estimator = knn_mod, X = X, y = y, cv=5, scoring='accuracy'))\n",
    "    accuracy = scores.mean() #calc mean accuracy of all 5 scores\n",
    "    if accuracy > accuracy_cvs:  #compare accuracies and determine best k\n",
    "        accuracy_cvs = accuracy\n",
    "        best_k = k\n",
    "    \n",
    "print(\"Best k: \", best_k, \"\\nAccuracy score: \", accuracy_cvs)"
   ]
  },
  {
   "cell_type": "code",
   "execution_count": 13,
   "metadata": {},
   "outputs": [
    {
     "name": "stdout",
     "output_type": "stream",
     "text": [
      "k-NN model with k = 6 and raw data \n",
      " Accuracy:  0.95\n"
     ]
    }
   ],
   "source": [
    "#train and test k-nn model w/k=6 on raw (non-scaled) data\n",
    "X_raw = digits.data\n",
    "\n",
    "#split raw data into training and test sets\n",
    "XTrain_raw, XTest_raw, yTrain_raw, yTest_raw = train_test_split(X_raw, y, random_state=1, test_size=.8)\n",
    "\n",
    "# set up the model: k-NN classification with k=6\n",
    "knn_model_best = KNeighborsClassifier(n_neighbors=best_k)\n",
    "\n",
    "#fit training dataset to model\n",
    "knn_model_best.fit(XTrain_raw, yTrain_raw)\n",
    "\n",
    "#use test dataset to compute score (accuracy)\n",
    "yPredict_raw = knn_model_best.predict(XTest_raw)\n",
    "knn_score_raw = round(metrics.accuracy_score(yTest_raw, yPredict_raw), 2)\n",
    "print(\"k-NN model with k = 6 and raw data \\n Accuracy: \", knn_score_raw)"
   ]
  },
  {
   "cell_type": "markdown",
   "metadata": {},
   "source": [
    "**Your Interpretation: Task 1.2**\n",
    "\n",
    "The accuracy of our classification model using k-NN with k=10 (and splitting the data 20/80 as training/testing sets) is 91%. That is, our classifier accurately identified 91% of the test data as the correct digit. From our confusion matrix we can see that the most common mistake the k-NN classifier made was classifying 1's as 2's. The second most common mistake was classifying 9's as 2's. \n",
    "\n",
    "After testing 100 k values from 1 to 100, the most accurate classifier had a k value of 6 and an accuracy of 94.5%. \n",
    "\n",
    "Once the best k value was determined, we trained and tested the k-NN classifier with k=6 on the raw (un-scaled) data. This yielded an accuracy of 95%. We can conclude that scaling the data does not improve our accuracy using the k-NN classifier. "
   ]
  },
  {
   "cell_type": "markdown",
   "metadata": {},
   "source": [
    "# Part 2: Popularity of online news\n",
    "\n",
    "For this problem, you will use classification tools to predict the popularity of online news based on attributes such as the length of the article, the number of images, the day of the week that the article was published, and some variables related to the content of the article. You can learn details about the datasetat the\n",
    "[UCI Machine Learning Repository](https://archive.ics.uci.edu/ml/datasets/Online+News+Popularity). \n",
    "This dataset was first used in the following conference paper: \n",
    "\n",
    "K. Fernandes, P. Vinagre and P. Cortez. A Proactive Intelligent Decision Support System for Predicting the Popularity of Online News. *Proceedings of the 17th EPIA 2015 - Portuguese Conference on Artificial Intelligence* (2015).\n",
    "\n",
    "The dataset contains variables describing 39,644 articles published between January 7, 2013 and Januyary 7, 2015 on the news website, [Mashable](http://mashable.com/). \n",
    "There are 61 variables associated with each article. Of these, 58 are *predictor* variables, 2 are variables that we will not use (url and timedelta), and finally the number of shares of each article. The number of shares is what we will use to define whether or not the article was *popular*, which is what we will try to predict. You should read about the predictor variables in the file *OnlineNewsPopularity.names*. Further details about the collection and processing of the articles can be found in the conference paper. \n",
    "\n",
    "\n",
    "### Task 2.1 Import the data \n",
    "* Use the pandas.read_csv() function to import the dataset.\n",
    "* To us[scikit-learn](http://scikit-learn.org), we'll need to save the data as a numpy array. Use the *DataFrame.as_matrix()* command to export the predictor variables as a numpy array called *X* this array should not include our target variable (the number of shares). We don't need the url and timedelta, so let's drop these columns. \n",
    "* Export the number of shares as a separate numpy array, called *shares*. We'll define an article to be popular if it received more shares than the median number of shares. Create a binary numpy array, *y*, which indicates whether or not each article is popular."
   ]
  },
  {
   "cell_type": "code",
   "execution_count": 14,
   "metadata": {},
   "outputs": [],
   "source": [
    "# Task 2.1: import the data\n",
    "\n",
    "#read csv into a df\n",
    "articles = pd.read_csv(\"OnlineNewsPopularity.csv\")\n",
    "\n",
    "#remove whitespace in headers\n",
    "articles.rename(columns=lambda x: x.strip(), inplace=True)\n",
    "\n",
    "#save shares column (target variable) as numpy array\n",
    "shares = articles['shares'].as_matrix()\n",
    "\n",
    "#remove url, timedelta and shares columns\n",
    "articles = articles.drop(['url', 'timedelta', 'shares'], axis=1)\n",
    "\n",
    "#create numpy array of df\n",
    "X = articles.as_matrix()\n",
    "\n",
    "# articles.head()\n",
    "# articles.describe()\n",
    "# articles.info()"
   ]
  },
  {
   "cell_type": "code",
   "execution_count": 15,
   "metadata": {},
   "outputs": [],
   "source": [
    "# Task 2.1 cont: create binary numpy array for popularity\n",
    "\n",
    "y = np.empty(shape=len(shares), dtype=int)\n",
    "\n",
    "#article popular if shares > median shares\n",
    "for idx, item in enumerate(shares):\n",
    "    if item > np.median(shares):\n",
    "        y[idx] = 1  #1 indicates popular\n",
    "    else:\n",
    "        y[idx] = 0  #0 indicates not popular\n"
   ]
  },
  {
   "cell_type": "markdown",
   "metadata": {},
   "source": [
    "### Task 2.2 Exploratory data analysis \n",
    "\n",
    "First check to see if the values are reasonable. What are the min, median, and maximum number of shares? "
   ]
  },
  {
   "cell_type": "code",
   "execution_count": 16,
   "metadata": {},
   "outputs": [
    {
     "name": "stdout",
     "output_type": "stream",
     "text": [
      "min:  1\n",
      "median:  1400.0\n",
      "max:  843300\n"
     ]
    }
   ],
   "source": [
    "#NOTE: this will keep removing the max if run more than once\n",
    "\n",
    "#min, max, med of shares\n",
    "print(\"min: \", shares.min())\n",
    "print(\"median: \", np.median(shares))\n",
    "print(\"max: \", shares.max())\n",
    "\n",
    "#identify outlier and remove\n",
    "max_index = np.where(shares==shares.max())\n",
    "shares = np.delete(shares, max_index)\n"
   ]
  },
  {
   "cell_type": "code",
   "execution_count": 17,
   "metadata": {},
   "outputs": [
    {
     "data": {
      "text/plain": [
       "690400"
      ]
     },
     "execution_count": 17,
     "metadata": {},
     "output_type": "execute_result"
    }
   ],
   "source": [
    "#verify we've removed the outlier\n",
    "shares.max()"
   ]
  },
  {
   "cell_type": "markdown",
   "metadata": {},
   "source": [
    "While it is possible that the maximum number of shares could be over 800,000, we will remove this from our data since it is an outlier (the closest number is in the 600,000's). "
   ]
  },
  {
   "cell_type": "markdown",
   "metadata": {},
   "source": [
    "### Task 2.3 Classification using k-NN\n",
    "\n",
    "Develop a k-NN classification model for the data. Use cross validation to choose the best value of k. What is the best accuracy you can obtain on the test data? "
   ]
  },
  {
   "cell_type": "code",
   "execution_count": 18,
   "metadata": {},
   "outputs": [],
   "source": [
    "# Task 2.3: Develop k-NN classification model\n",
    "\n",
    "#this function uses 'cross_val_score' function to evaluate accuracy of KNeighborClassifier k values.\n",
    "#uses articles dataframe matrix for data, X , and binary popularity array for labels, y.\n",
    "\n",
    "#parameter: list of k values to test\n",
    "#return: list of accuracies for each corresponding k value\n",
    "\n",
    "def test_k_values(values):\n",
    "    accuracies = []\n",
    "    for k in values:\n",
    "        knn_mod = KNeighborsClassifier(n_neighbors=k)\n",
    "        scores = (cross_val_score(estimator = knn_mod, X = X, y = y, cv=5, scoring='accuracy'))\n",
    "        accuracy = scores.mean() #calc mean accuracy of all 5 scores\n",
    "        accuracies.append(accuracy)\n",
    "        \n",
    "    return accuracies"
   ]
  },
  {
   "cell_type": "code",
   "execution_count": 19,
   "metadata": {},
   "outputs": [
    {
     "name": "stdout",
     "output_type": "stream",
     "text": [
      "9\n",
      "9\n"
     ]
    }
   ],
   "source": [
    "#let's find best k value\n",
    "knn_cvs = [] #hold cv accuracies for test values\n",
    "\n",
    "#first let's test small values of k between 1 and 9\n",
    "round1_k = list(range(1, 10))\n",
    "k1 = test_k_values(round1_k)\n",
    "\n",
    "#update our lists\n",
    "knn_cvs = k1\n",
    "k_test_values = round1_k #hold tested values\n",
    "\n",
    "print(len(knn_cvs))\n",
    "print(len(k_test_values))"
   ]
  },
  {
   "cell_type": "code",
   "execution_count": 20,
   "metadata": {},
   "outputs": [
    {
     "name": "stdout",
     "output_type": "stream",
     "text": [
      "18\n",
      "18\n"
     ]
    }
   ],
   "source": [
    "#next we'll test k values from 10 to 90 in increments of 10\n",
    "round2_k = list(range(10, 100, 10))\n",
    "k2 = test_k_values(round2_k)\n",
    "\n",
    "#update our lists\n",
    "knn_cvs += k2\n",
    "k_test_values += round2_k\n",
    "\n",
    "print(len(knn_cvs))\n",
    "print(len(k_test_values))"
   ]
  },
  {
   "cell_type": "code",
   "execution_count": 21,
   "metadata": {},
   "outputs": [],
   "source": [
    "# #finally, we'll test big values of k from 100 to 1000 in increments of 100\n",
    "# round3_k = list(range(100, 300, 100))\n",
    "# k3 = test_k_values(round3_k)\n",
    "\n",
    "# #update our lists\n",
    "# knn_cvs += k3\n",
    "# k_test_values += round3_k\n",
    "\n",
    "# print(len(knn_cvs))\n",
    "# print(len(k_test_values))"
   ]
  },
  {
   "cell_type": "code",
   "execution_count": 22,
   "metadata": {},
   "outputs": [
    {
     "name": "stdout",
     "output_type": "stream",
     "text": [
      "Best Accuracy: 0.5527735050511349\n",
      "k-value for Best Accuracy: 40\n"
     ]
    },
    {
     "data": {
      "image/png": "[encoded data removed]",
      "text/plain": [
       "<matplotlib.figure.Figure at 0xb5176a0>"
      ]
     },
     "metadata": {},
     "output_type": "display_data"
    }
   ],
   "source": [
    "#visualize k values and accuracies\n",
    "plt.plot(k_test_values, knn_cvs)\n",
    "plt.xlabel(\"k Value\")\n",
    "plt.ylabel(\"Accuracy\")\n",
    "plt.show\n",
    "\n",
    "print(\"Best Accuracy:\", max(knn_cvs))\n",
    "print(\"k-value for Best Accuracy:\", k_test_values[knn_cvs.index(max(knn_cvs))])"
   ]
  },
  {
   "cell_type": "markdown",
   "metadata": {},
   "source": [
    "**Interpretation:** \n",
    "\n",
    "The process of using cross-validation to determine the best k value for the k-NN classifier was segmented into two major parts. First, k values between 1 and 9 in increments of 1 were tested. Then, k values between 10 and 90 (in increments of 10) were tested. The results were fairly dismal. The highest accuracy of 55% was achieved with a k-value of 40, and accuracy results continued to drop past 54% for k-values greater than or equal to 200. The k-NN classifier is not a particularly useful tool for predicting the popularity of news articles on Mashable.com. \n"
   ]
  },
  {
   "cell_type": "markdown",
   "metadata": {},
   "source": [
    "### Task 2.4 Classification using SVM\n",
    "\n",
    "Develop a support vector machine classification model for the data. \n",
    " \n",
    " * SVM is computationally expensive, so start by using only a fraction of the data, say 5,000 articles. \n",
    " * Experimt with different Cs. Which is the best value for C?\n",
    "\n",
    "Note that it takes multiple minutes to run on the whole dataset."
   ]
  },
  {
   "cell_type": "code",
   "execution_count": 23,
   "metadata": {},
   "outputs": [],
   "source": [
    "# Task 2.4: SVM\n",
    "\n",
    "#we'll only use the first 5,000 articles\n",
    "articles_small = articles.head(5000)\n",
    "\n",
    "#transform df into matrix\n",
    "X_small = articles_small.as_matrix()\n",
    "y_small = y[:5000]\n",
    "\n",
    "\n",
    "#this function uses 'cross_val_score' function to evaluate accuracy of SVM C values.\n",
    "#uses first 5000 items from articles dataframe (as matrix) for data, X, \n",
    "#and first 5000 items from binary popularity array for labels, y.\n",
    "\n",
    "#parameter: list of c values to test\n",
    "#return: list of accuracies for each corresponding c value\n",
    "\n",
    "def test_c_values(values):\n",
    "    accuracies = []\n",
    "    for c in values:\n",
    "        svm_mod = svm.SVC(kernel='rbf', C=c)\n",
    "        scores = cross_val_score(estimator = svm_mod, X = X_small, y = y_small, cv=5, scoring='accuracy')\n",
    "        accuracy = scores.mean() #calc mean accuracy of all 5 scores\n",
    "        accuracies.append(accuracy)\n",
    "        \n",
    "    return accuracies"
   ]
  },
  {
   "cell_type": "code",
   "execution_count": 24,
   "metadata": {},
   "outputs": [
    {
     "name": "stdout",
     "output_type": "stream",
     "text": [
      "9\n",
      "9\n"
     ]
    }
   ],
   "source": [
    "#let's find best c value\n",
    "\n",
    "#first let's test small values of c between 2 and 10\n",
    "round1_c = list(range(2, 11))\n",
    "c1 = test_c_values(round1_c)\n",
    "\n",
    "#make our lists\n",
    "svm_cvs = c1  #hold cv accuracies for test values\n",
    "c_test_values = round1_c  #hold tested c values\n",
    "\n",
    "print(len(svm_cvs))\n",
    "print(len(c_test_values))\n"
   ]
  },
  {
   "cell_type": "code",
   "execution_count": 25,
   "metadata": {},
   "outputs": [
    {
     "name": "stdout",
     "output_type": "stream",
     "text": [
      "21\n",
      "21\n"
     ]
    }
   ],
   "source": [
    "#next let's test bigger values of c between 100 and 112 (increments of 2)\n",
    "round2_c = list(range(100, 112))\n",
    "c2 = test_c_values(round2_c)\n",
    "\n",
    "#opdate our lists\n",
    "svm_cvs += c2 \n",
    "c_test_values += round2_c\n",
    "\n",
    "print(len(svm_cvs))\n",
    "print(len(c_test_values))"
   ]
  },
  {
   "cell_type": "code",
   "execution_count": 26,
   "metadata": {},
   "outputs": [
    {
     "name": "stdout",
     "output_type": "stream",
     "text": [
      "33\n",
      "33\n"
     ]
    }
   ],
   "source": [
    "#finally let's test even bigger values of c between 500 and 512 (increments of 2)\n",
    "round3_c = list(range(500, 512))\n",
    "c3 = test_c_values(round3_c)\n",
    "\n",
    "#opdate our lists\n",
    "svm_cvs += c3 \n",
    "c_test_values += round3_c\n",
    "\n",
    "print(len(svm_cvs))\n",
    "print(len(c_test_values))"
   ]
  },
  {
   "cell_type": "code",
   "execution_count": 27,
   "metadata": {},
   "outputs": [
    {
     "name": "stdout",
     "output_type": "stream",
     "text": [
      "Best accuracy:  0.5618000246000247\n"
     ]
    },
    {
     "data": {
      "image/png": "[encoded data removed]",
      "text/plain": [
       "<matplotlib.figure.Figure at 0xbf93898>"
      ]
     },
     "metadata": {},
     "output_type": "display_data"
    }
   ],
   "source": [
    "#visualize c values and accuracies\n",
    "plt.plot(c_test_values, svm_cvs)\n",
    "plt.xlabel(\"c Value\")\n",
    "plt.ylabel(\"Accuracy\")\n",
    "plt.show\n",
    "\n",
    "print(\"Best accuracy: \", svm_cvs[0])"
   ]
  },
  {
   "cell_type": "markdown",
   "metadata": {},
   "source": [
    "The plot above shows that no matter what the value of c, our SVM classifier maintains an accuracy of 56%. "
   ]
  },
  {
   "cell_type": "markdown",
   "metadata": {},
   "source": [
    "### Task 2.5 Classification using decision trees\n",
    "\n",
    "Develop a decision tree classification model for the data. \n",
    "\n",
    "Use cross validation to choose good values of the max tree depth (*max_depth*) and minimum samples split (*min_samples_split*). "
   ]
  },
  {
   "cell_type": "code",
   "execution_count": 28,
   "metadata": {},
   "outputs": [],
   "source": [
    "#function to split data into training and data sets\n",
    "#parameter 'features' is list of variables from df we want to include\n",
    "def splitData(features):\n",
    "    predictors = articles[features].as_matrix()\n",
    "    target = y #this is our binary array that indicates popularity\n",
    "\n",
    "    # Split into training and test sets\n",
    "    XTrain, XTest, yTrain, yTest = train_test_split(predictors, target, random_state=1, test_size=0.5)\n",
    "    return XTrain, XTest, yTrain, yTest"
   ]
  },
  {
   "cell_type": "code",
   "execution_count": 29,
   "metadata": {},
   "outputs": [
    {
     "name": "stdout",
     "output_type": "stream",
     "text": [
      "Using Decision Tree Classifier with all data features and no specified max depth or min samples split:\n",
      "Accuracy on training data =  1.0\n",
      "Accuracy on test data =  0.5763797800423771\n"
     ]
    }
   ],
   "source": [
    "# Task 2.5: Decision trees\n",
    "\n",
    "#list of all features\n",
    "all_features = list(articles)\n",
    "\n",
    "#let's first split and train data by all features\n",
    "XTrain, XTest, yTrain, yTest = splitData(all_features)\n",
    "decisionTree = tree.DecisionTreeClassifier()\n",
    "decisionTree = decisionTree.fit(XTrain, yTrain)\n",
    "\n",
    "#predictions on training data\n",
    "print(\"Using Decision Tree Classifier with all data features and no specified max depth or min samples split:\")\n",
    "y_pred_train = decisionTree.predict(XTrain)\n",
    "print('Accuracy on training data = ', metrics.accuracy_score(y_true = yTrain, y_pred = y_pred_train))\n",
    "\n",
    "#predictions on test data\n",
    "y_pred = decisionTree.predict(XTest)\n",
    "print('Accuracy on test data = ', metrics.accuracy_score(y_true = yTest, y_pred = y_pred))\n"
   ]
  },
  {
   "cell_type": "markdown",
   "metadata": {},
   "source": [
    "Now we'll use cross-validation to find the best max depth for our decision tree. Note that in general we would like a less-complex model; therefore, we will restrict our cross-validation to only test max depth values between 1 and 10."
   ]
  },
  {
   "cell_type": "code",
   "execution_count": 30,
   "metadata": {},
   "outputs": [],
   "source": [
    "# Task 2.5 cont: find best max depth\n",
    "\n",
    "#use 'cross_val_score' function to evaluate accuracy of model with various max_depth values\n",
    "dt_cvs_md = [] #hold cv scores for max depth\n",
    "accuracy_cvs = 0\n",
    "best_md = 0\n",
    "\n",
    "#let's find best max_depth by testing values between 1 and 10\n",
    "for i in range(1,11):\n",
    "    dt_mod = tree.DecisionTreeClassifier(max_depth=i)\n",
    "    scores = (cross_val_score(estimator = dt_mod, X = X, y = y, cv=5, scoring='accuracy'))\n",
    "    accuracy = scores.mean() #calc mean accuracy of all 5 scores\n",
    "    dt_cvs_md.append(accuracy)\n"
   ]
  },
  {
   "cell_type": "code",
   "execution_count": 31,
   "metadata": {},
   "outputs": [
    {
     "data": {
      "text/plain": [
       "<function matplotlib.pyplot.show>"
      ]
     },
     "execution_count": 31,
     "metadata": {},
     "output_type": "execute_result"
    },
    {
     "data": {
      "image/png": "[encoded data removed]",
      "text/plain": [
       "<matplotlib.figure.Figure at 0xe95b390>"
      ]
     },
     "metadata": {},
     "output_type": "display_data"
    }
   ],
   "source": [
    "#visualize depths and accuracies\n",
    "plt.plot(range(1,11), dt_cvs_md)\n",
    "plt.xlabel(\"Max Depth Value\")\n",
    "plt.ylabel(\"Accuracy\")\n",
    "plt.show"
   ]
  },
  {
   "cell_type": "markdown",
   "metadata": {},
   "source": [
    "We can see that the highest accuracy of 61.76% is obtained at a depth of 6, and the second highest accuracy of 61.71% is obtained at a depth of 3. To control the complexity of our decision tree, let's stick with a max depth of 3."
   ]
  },
  {
   "cell_type": "markdown",
   "metadata": {},
   "source": [
    "Now we will use cross-validation to find the best minimum samples split (mss) value for our decision tree. Note that in general a larger sample split will yield a less-complex tree; therefore we won't consider small values (i.e. anything less than 10) for our minimum sample split value."
   ]
  },
  {
   "cell_type": "code",
   "execution_count": 32,
   "metadata": {},
   "outputs": [],
   "source": [
    "#Task 2.5 cont: find best min samples split\n",
    "\n",
    "#this function uses 'cross_val_score' function to evaluate accuracy of DecisionTreeClassifier \n",
    "#with various min_samples_split values. uses articles dataframe matrix for data, X , and \n",
    "#binary popularity array for labels, y.\n",
    "\n",
    "#parameter: list of min_samples_split values to test\n",
    "#return: list of accuracies for each corresponding min_samples_split value\n",
    "\n",
    "def test_mss_values(values):\n",
    "    accuracies = []\n",
    "    for j in values:\n",
    "        dt_mod = tree.DecisionTreeClassifier(min_samples_split=j)\n",
    "        scores = (cross_val_score(estimator = dt_mod, X = X, y = y, cv=5, scoring='accuracy'))\n",
    "        accuracy = scores.mean() #calc mean accuracy of all 5 scores\n",
    "        accuracies.append(accuracy)\n",
    "    \n",
    "    return accuracies"
   ]
  },
  {
   "cell_type": "code",
   "execution_count": 33,
   "metadata": {},
   "outputs": [
    {
     "name": "stdout",
     "output_type": "stream",
     "text": [
      "9\n",
      "9\n"
     ]
    }
   ],
   "source": [
    "#let's find best min_samples_split \n",
    "dt_cvs_mss = [] #hold cv accuracies for test values\n",
    "\n",
    "#first let's test values between 2 and 10 (just for kicks)\n",
    "round1_mss = list(range(2,11))\n",
    "mss_1 = test_mss_values(round1_mss)\n",
    "\n",
    "#update our lists\n",
    "dt_cvs_mss = mss_1\n",
    "mss_test_values = round1_mss #hold tested values\n",
    "\n",
    "print(len(dt_cvs_mss))\n",
    "print(len(mss_test_values))"
   ]
  },
  {
   "cell_type": "code",
   "execution_count": 34,
   "metadata": {},
   "outputs": [
    {
     "name": "stdout",
     "output_type": "stream",
     "text": [
      "18\n",
      "18\n"
     ]
    }
   ],
   "source": [
    "#next let's test values between 10 and 50 in increments of 5\n",
    "round2_mss = list(range(10, 55, 5))\n",
    "mss_2 = test_mss_values(round2_mss)\n",
    "\n",
    "#update our lists\n",
    "dt_cvs_mss += mss_2\n",
    "mss_test_values += round2_mss\n",
    "\n",
    "print(len(dt_cvs_mss))\n",
    "print(len(mss_test_values))"
   ]
  },
  {
   "cell_type": "code",
   "execution_count": 35,
   "metadata": {},
   "outputs": [
    {
     "name": "stdout",
     "output_type": "stream",
     "text": [
      "26\n",
      "26\n"
     ]
    }
   ],
   "source": [
    "#now let's test values between 100 and 450 in increments of 50\n",
    "round3_mss = list(range(100, 500, 50))\n",
    "mss_3 = test_mss_values(round3_mss)\n",
    "\n",
    "#update our lists\n",
    "dt_cvs_mss += mss_3\n",
    "mss_test_values += round3_mss\n",
    "\n",
    "print(len(dt_cvs_mss))\n",
    "print(len(mss_test_values))"
   ]
  },
  {
   "cell_type": "code",
   "execution_count": 36,
   "metadata": {},
   "outputs": [
    {
     "name": "stdout",
     "output_type": "stream",
     "text": [
      "32\n",
      "32\n"
     ]
    }
   ],
   "source": [
    "#finally, let's test big values between 500 and 1000 in increments of 100\n",
    "round4_mss = list(range(500, 1100, 100))\n",
    "mss_4 = test_mss_values(round4_mss)\n",
    "\n",
    "#update our lists\n",
    "dt_cvs_mss += mss_4\n",
    "mss_test_values += round4_mss\n",
    "\n",
    "print(len(dt_cvs_mss))\n",
    "print(len(mss_test_values))"
   ]
  },
  {
   "cell_type": "code",
   "execution_count": 37,
   "metadata": {},
   "outputs": [
    {
     "data": {
      "image/png": "[encoded data removed]",
      "text/plain": [
       "<matplotlib.figure.Figure at 0xe6316d8>"
      ]
     },
     "metadata": {},
     "output_type": "display_data"
    }
   ],
   "source": [
    "#visualize mss test values and accuracies\n",
    "plt.plot(mss_test_values, dt_cvs_mss)\n",
    "plt.xlabel(\"Min Sample Split Value\")\n",
    "plt.ylabel(\"Accuracy\")\n",
    "plt.show()"
   ]
  },
  {
   "cell_type": "markdown",
   "metadata": {},
   "source": [
    "From the plot above, we see that we achieve the best accuracy of 61.6% with an mss value of 400. The second-highest \"peak\" in accuracy is of 60% and is achieved at an mss value of 200. It's difficult to say how generalized our model will be with an mss value of 400 compared to 200, but with a 2% increase in accuracy, we'll take it. \n",
    "\n",
    "Now we can use our best max depth and mss values to create a decision tree model to fit our data."
   ]
  },
  {
   "cell_type": "code",
   "execution_count": 38,
   "metadata": {},
   "outputs": [
    {
     "name": "stdout",
     "output_type": "stream",
     "text": [
      "Decision Tree Accuracy, max_depth = 3, min_samples_split = 400: 0.6170949262148746\n"
     ]
    }
   ],
   "source": [
    "# create model with best max_depth and min_samples_size\n",
    "dt_model = tree.DecisionTreeClassifier(max_depth=3 ,min_samples_split=400)\n",
    "scores = (cross_val_score(estimator = dt_model, X = X, y = y, cv=5, scoring='accuracy'))\n",
    "accuracy = scores.mean() #calc mean accuracy of all 5 scores\n",
    "\n",
    "print(\"Decision Tree Accuracy, max_depth = 3, min_samples_split = 400:\", accuracy)"
   ]
  },
  {
   "cell_type": "markdown",
   "metadata": {},
   "source": [
    "With a max depth of 3 and a mss value of 400, we obtain an accuracy of 62%. That is, our decision tree correctly determines the popularity of an article on Mashable.com 61% of the time. This is not great, but an improvement from prior models."
   ]
  },
  {
   "cell_type": "markdown",
   "metadata": {},
   "source": [
    "### Task 2.6 Describe your findings\n",
    "1. Which method (k-NN, SVM, Decision Tree) worked best?\n",
    "+ How did different parameters influence the accuracy?\n",
    "+ Which model is easiest do interpret?\n",
    "+ How would you interpret your results?\n"
   ]
  },
  {
   "cell_type": "markdown",
   "metadata": {},
   "source": [
    "**Your Solution:** \n",
    "\n",
    "1. The decision tree worked best. Despite only obtaining an accuracy of 62% on our data, the decision tree (with max depth of 3 and min sample size value of 400) outperformed both SVM and k-NN by 6% and 7%, respectively. \n",
    "\n",
    "2. \n",
    "    SVM: The parameter c, our penalty, did not play any kind of role in influencing the accuracy. Regardless of the c value we chose, we maintained an accuracy of 56%.\n",
    "    \n",
    "    k-NN: The parameter k, the number of \"neighbors\" used in classification, played a large role in determining the accuracy. The smaller the k value, the more accuracy we obtained. However, as k decreases, we begin over-fit our data.\n",
    "    \n",
    "    Decision tree: Both parameters max depth and min samples size (mss), played a role in determining the accuracy. However, much like k in our k-NN model, both must be chosen so as not to overfit the data and become an overly-complex model. as such, we restricted our max depth and allowed our mss value to be fairly large. Both parameters also had values at which they \"leveled-off\". \n",
    "    \n",
    "3. The model easiest to interpret was k-nn. There was only one parameter, k, that was well defined with a meaninful effect on accuracy. That is, it was more intuitive to understand how k was affecting accuracy: as k decreased (to a certain value), accuracy improved, and as k increased past a certain value, accuracy suffered becuase the model became too general. Similarly, decision trees are easy to interpret; however, becuase there are two parameters instead of one, it is a bit harder than k-NN to understand. In particular, min_samples_size was a bit mysterious in that it is unclear what large values are good. \n",
    "\n",
    "4. SVM: No matter what the value of c, our SVM classifier maintains an accuracy of 56%. That is, the SVM classifier can correctly predict the popularity of Mashale.com articles 56% of the time. This is not far from 50%-- a random guess. \n",
    "    \n",
    "    k-NN: The results were fairly dismal. The highest accuracy of 55% was achieved with a k-value of 40, and accuracy results continued to drop past 54% for k-values greater than or equal to 200. The k-NN classifier is not a particularly useful tool for predicting the popularity of news articles on Mashable.com. Like the SVM classifier, k-NN is not much better than a random guess.\n",
    "    \n",
    "    Binary tree: The decision tree correctly determined the popularity of an article on Mashable.com 61% of the time. This is not great, but an improvement from both SVM and k-NN.\n"
   ]
  },
  {
   "cell_type": "markdown",
   "metadata": {},
   "source": [
    "** Reference Solution:** \n",
    "\n",
    "1. Decision trees work the best was better than KNN\n",
    "+ Parameters\n",
    "    + For decision trees, higher splits had a positive effect, topping out at about 400.\n",
    "    + For SVM, C didn't have a noticable effect. It performed poorly anyways and takes very long.\n",
    "    + For k-NN a k of 50 perfomed best.\n",
    "+ k-NN and decision trees are easy to interpret.\n",
    "+ The accuracy of predicting popularity of newspaper articles using just those features is not very high; a chance pick would have an accuracy of 0.5."
   ]
  }
 ],
 "metadata": {
  "anaconda-cloud": {},
  "kernelspec": {
   "display_name": "Python 3",
   "language": "python",
   "name": "python3"
  },
  "language_info": {
   "codemirror_mode": {
    "name": "ipython",
    "version": 3
   },
   "file_extension": ".py",
   "mimetype": "text/x-python",
   "name": "python",
   "nbconvert_exporter": "python",
   "pygments_lexer": "ipython3",
   "version": "3.6.4"
  }
 },
 "nbformat": 4,
 "nbformat_minor": 2
}
